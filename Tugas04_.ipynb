{
  "nbformat": 4,
  "nbformat_minor": 0,
  "metadata": {
    "colab": {
      "name": "Tugas04 bachtiar.ipynb",
      "provenance": [],
      "private_outputs": true,
      "collapsed_sections": [],
      "authorship_tag": "ABX9TyPT7eybLgA5ZTCk7Aa+ZlXH",
      "include_colab_link": true
    },
    "kernelspec": {
      "name": "python3",
      "display_name": "Python 3"
    }
  },
  "cells": [
    {
      "cell_type": "markdown",
      "metadata": {
        "id": "view-in-github",
        "colab_type": "text"
      },
      "source": [
        "<a href=\"https://colab.research.google.com/github/BachtiarDwiRizqianthoro/algoritma-struktur-data/blob/main/Tugas04_.ipynb\" target=\"_parent\"><img src=\"https://colab.research.google.com/assets/colab-badge.svg\" alt=\"Open In Colab\"/></a>"
      ]
    },
    {
      "cell_type": "code",
      "metadata": {
        "id": "oZHgXzoB3CJq"
      },
      "source": [
        "print('operasi arimatika')\n",
        "#menggunakan operasi penjumlahan\n",
        "a=20 #tipedatainteger\n",
        "b=30 #tipedatainteger\n",
        "c=a+b #variabel c = variabel a+b\n",
        "print ('hasil',a,\"+\",b,'=',c)\n",
        " \n",
        "#menggunakan operasi pengurangan\n",
        "a=20 #tipedatainteger\n",
        "b=30 #tipedatainteger\n",
        "c=a-b #variabel c = variabel a-b\n",
        "print ('hasil',a,'-',b,'=',c) \n",
        "\n",
        "#menggunakan operasi perkalian \n",
        "a=20 #tipedatainteger\n",
        "b=30 #tipedatainteger\n",
        "c=a*b #variabel c =variabel a*b\n",
        "print ('hasil',a,'*',b,'=',c) \n",
        "\n",
        "#menggunakan operasi pembagian\n",
        "a=20 #tipedatainteger\n",
        "b=30 #tipedatainterger\n",
        "c=a/b #variabel c=variabel a/b\n",
        "print ('hasil',a,\"/\",b,'=',c) \n",
        "\n",
        "#menggunakan operasi sisa bagi\n",
        "a=20 #tipedatainteger\n",
        "b=30 #tipedatainterger\n",
        "c=a%b #variabel c=variabel a%b\n",
        "print ('hasil',a,'%',b'=',c)\n",
        "\n",
        "#menggunakan operasi pemangkatan \n",
        "a=20 #tipedatainterger\n",
        "b=30 #tipedatainterger\n",
        "c=a**b #variabel c=variabel a**b\n",
        "print ('hasil',a,\"**\",b,'=',c)\n"
      ],
      "execution_count": null,
      "outputs": []
    },
    {
      "cell_type": "code",
      "metadata": {
        "id": "RgTQ212XGggQ"
      },
      "source": [
        "print('operasi penugasan') \n",
        "#operasi pengisian\n",
        "a=10\n",
        "print(a) \n",
        "a=20\n",
        "print(a) \n",
        "\n",
        "#operasi penjumlahan\n",
        "a=10\n",
        "print(a) \n",
        "a+=20\n",
        "print(a) \n",
        "\n",
        "#operasi pengurangan\n",
        "a=10\n",
        "print(a) \n",
        "a-=20\n",
        "print(a) \n",
        "\n",
        "#operasi pengkalian\n",
        "a=10\n",
        "print(a) \n",
        "a/=20\n",
        "print(a) \n",
        "\n",
        "#operasi pembagian\n",
        "a=10\n",
        "print(a) \n",
        "a*=20\n",
        "print(a) \n",
        "\n",
        "#operasi sisa bagi\n",
        "a=10\n",
        "print(a) \n",
        "a%=20\n",
        "print(a) \n",
        "\n",
        "#operasi pemangkatan\n",
        "a=10\n",
        "print(a) \n",
        "a**=20\n",
        "print(a) "
      ],
      "execution_count": null,
      "outputs": []
    },
    {
      "cell_type": "code",
      "metadata": {
        "id": "ZJSlZenU8H2S"
      },
      "source": [
        "print('operasi pembanding')\n",
        "#operasi lebih besar\n",
        "a=100 #tipedatainteger\n",
        "b=50 #tipedatainteger\n",
        "c=a>b\n",
        "print('apakah a lebih besar dari b:',c) \n",
        "\n",
        "#operasi lebih kecil \n",
        "a=100 #tipedatainteger\n",
        "b=50 #tipedatainteger\n",
        "c=a<b\n",
        "print('apakah a lebih kecil dari b:',c) \n",
        "\n",
        "#operasi sama dengan\n",
        "a=100 #tipedatainteger\n",
        "b=50 #topedataineger\n",
        "c=a==b\n",
        "print('apakah a sama dengan b:',c) \n",
        "\n",
        "#operasi tidak sama dengan\n",
        "a=100 #tipedatainteger\n",
        "b=50 #tipedatainteger\n",
        "c=a!=b\n",
        "print('apakah a tidak sama dengan;',c) \n",
        "\n",
        "#operasi lebih besar sama dengan\n",
        "a=100 #tioedataiteger\n",
        "b=50 #tipedatainteger\n",
        "c=a>=b\n",
        "print('apakah a lebih besar sama dengan;',c) \n",
        "\n",
        "#operasi lebih kecil sama dengan\n",
        "a=100 #tipedatainteger\n",
        "b=50 #tipedatainteger\n",
        "c=a<=b\n",
        "print('apakah a lebih kecil sam dengan;',c)"
      ],
      "execution_count": null,
      "outputs": []
    },
    {
      "cell_type": "code",
      "metadata": {
        "id": "_-Ovr84U8O8H"
      },
      "source": [
        "print('operasi Logika') \n",
        "#logika AND\n",
        "a = True\n",
        "b = False \n",
        "c = a and b \n",
        "print(c) \n",
        "\n",
        "#logika OR\n",
        "a = True \n",
        "b = False \n",
        "c = a or b \n",
        "print(c) \n",
        "\n",
        "#logika not \n",
        "a = True \n",
        "b = False \n",
        "c = not a, not b,\n",
        "print(c)"
      ],
      "execution_count": null,
      "outputs": []
    },
    {
      "cell_type": "code",
      "metadata": {
        "id": "DqJnYKxg8WJq"
      },
      "source": [
        "print('operasi input output') \n",
        "print('Data Bayi') \n",
        "A=input('nama bayi:') \n",
        "B=int(input('berat bayi dalam kg adalah:')) \n",
        "D=B*10\n",
        "print('berat bayi dalam Ons adalah:',D)\n",
        "E=D+30 \n",
        "print('berat',A,'satu bulan kedepan adalah',E,'Ons')"
      ],
      "execution_count": null,
      "outputs": []
    }
  ]
}