{
  "nbformat": 4,
  "nbformat_minor": 0,
  "metadata": {
    "colab": {
      "name": "Selamat Datang di Colaboratory",
      "provenance": [],
      "collapsed_sections": [],
      "include_colab_link": true
    },
    "kernelspec": {
      "display_name": "Python 3",
      "name": "python3"
    }
  },
  "cells": [
    {
      "cell_type": "markdown",
      "metadata": {
        "id": "view-in-github",
        "colab_type": "text"
      },
      "source": [
        "<a href=\"https://colab.research.google.com/github/BachtiarDwiRizqianthoro/algoritma-struktur-data/blob/main/Tugas6%20.ipynb\" target=\"_parent\"><img src=\"https://colab.research.google.com/assets/colab-badge.svg\" alt=\"Open In Colab\"/></a>"
      ]
    },
    {
      "cell_type": "code",
      "metadata": {
        "id": "x0OP-rHZPWtQ",
        "outputId": "310d6374-507b-496b-ec4f-582067d3fb44",
        "colab": {
          "base_uri": "https://localhost:8080/",
          "height": 51
        }
      },
      "source": [
        "Nilai = int(input('NILAI:'))\n",
        "if Nilai <= 70:\n",
        "   print('Remidi')"
      ],
      "execution_count": 2,
      "outputs": [
        {
          "output_type": "stream",
          "text": [
            "NILAI:60\n",
            "Remidi\n"
          ],
          "name": "stdout"
        }
      ]
    },
    {
      "cell_type": "code",
      "metadata": {
        "id": "mslH--bgPyce",
        "outputId": "3a81c480-6de9-4721-8ec1-42cb8a3b00fc",
        "colab": {
          "base_uri": "https://localhost:8080/",
          "height": 69
        }
      },
      "source": [
        "phi=3.14\n",
        "A = int(input('masukan jari jari:'))\n",
        "L = (phi*A*A)\n",
        "print('jadi luas lingkaran',L)\n",
        "if L > 314:\n",
        "   print('Lingkaran ini kecil')\n",
        "else :\n",
        "   print('Lingkaran ini besar')"
      ],
      "execution_count": null,
      "outputs": [
        {
          "output_type": "stream",
          "text": [
            "masukan jari jari:5\n",
            "jadi luas lingkaran 78.5\n",
            "Lingkaran ini besar\n"
          ],
          "name": "stdout"
        }
      ]
    },
    {
      "cell_type": "code",
      "metadata": {
        "id": "zBNCuy3XP5vb",
        "outputId": "f8e6d191-ce15-4691-d4dd-745f402ac8c6",
        "colab": {
          "base_uri": "https://localhost:8080/",
          "height": 51
        }
      },
      "source": [
        "program=int(input('Masukan program yang dipiih:'))\n",
        "def A() :\n",
        "        P=int(input('Panjang:'))\n",
        "        L=int(input('Lebar:'))\n",
        "        T=int(input('Tinggi:'))\n",
        "        VB=(p*l*t)\n",
        "        return VB\n",
        "def B() :\n",
        "  s=int(input('sisi:')) \n",
        "  VK=(s*s*s)\n",
        "  return VK\n",
        " \n",
        "if program == 1:\n",
        "   print('Jadi volume balok :',A())\n",
        "elif program == 2:\n",
        "   print('Jadi volume balok',B())\n",
        "else:\n",
        "   print('program tidak tersedia')"
      ],
      "execution_count": null,
      "outputs": [
        {
          "output_type": "stream",
          "text": [
            "Masukan program yang dipiih:5\n",
            "program tidak tersedia\n"
          ],
          "name": "stdout"
        }
      ]
    }
  ]
}