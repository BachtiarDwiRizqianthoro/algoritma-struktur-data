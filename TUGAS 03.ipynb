{
 "cells": [
  {
   "cell_type": "code",
   "execution_count": 2,
   "metadata": {},
   "outputs": [
    {
     "name": "stdout",
     "output_type": "stream",
     "text": [
      "embe\n"
     ]
    },
    {
     "ename": "NameError",
     "evalue": "name 'kambing' is not defined",
     "output_type": "error",
     "traceback": [
      "\u001b[1;31m---------------------------------------------------------------------------\u001b[0m",
      "\u001b[1;31mNameError\u001b[0m                                 Traceback (most recent call last)",
      "\u001b[1;32m<ipython-input-2-336210cb807b>\u001b[0m in \u001b[0;36m<module>\u001b[1;34m\u001b[0m\n\u001b[0;32m      3\u001b[0m \u001b[0mprint\u001b[0m \u001b[1;33m(\u001b[0m\u001b[0mkambing\u001b[0m\u001b[1;33m)\u001b[0m\u001b[1;33m\u001b[0m\u001b[1;33m\u001b[0m\u001b[0m\n\u001b[0;32m      4\u001b[0m \u001b[1;32mdel\u001b[0m \u001b[1;33m(\u001b[0m\u001b[0mkambing\u001b[0m\u001b[1;33m)\u001b[0m\u001b[1;33m\u001b[0m\u001b[1;33m\u001b[0m\u001b[0m\n\u001b[1;32m----> 5\u001b[1;33m \u001b[0mprint\u001b[0m \u001b[1;33m(\u001b[0m\u001b[0mkambing\u001b[0m\u001b[1;33m)\u001b[0m\u001b[1;33m\u001b[0m\u001b[1;33m\u001b[0m\u001b[0m\n\u001b[0m",
      "\u001b[1;31mNameError\u001b[0m: name 'kambing' is not defined"
     ]
    }
   ],
   "source": [
    "#bachtiardwirizqianthoro\n",
    "kambing = \"embe\"        #tipedata ,string\n",
    "print (kambing)\n",
    "del (kambing)\n",
    "print (kambing)"
   ]
  },
  {
   "cell_type": "code",
   "execution_count": 3,
   "metadata": {},
   "outputs": [
    {
     "name": "stdout",
     "output_type": "stream",
     "text": [
      "keliling lingkaran sama dengan  314.0\n"
     ]
    }
   ],
   "source": [
    "#bachtiardwirizqianthoro\n",
    "r = 50                 #r \n",
    "phi = 3.14             #phi\n",
    "keliling = 2*phi*r\n",
    "print (\"keliling lingkaran sama dengan \",keliling)"
   ]
  },
  {
   "cell_type": "code",
   "execution_count": 6,
   "metadata": {},
   "outputs": [
    {
     "name": "stdout",
     "output_type": "stream",
     "text": [
      "True\n",
      "False\n"
     ]
    }
   ],
   "source": [
    "#bachtiardwirizqianthoro\n",
    "beratbachtiardanadhen = 47 < 61 #tipedataboolean ,true\n",
    "\n",
    "print (beratbachtiardanadhen)\n",
    "print (47 > 61)  #tipedataboolean ,false"
   ]
  },
  {
   "cell_type": "code",
   "execution_count": 8,
   "metadata": {},
   "outputs": [
    {
     "name": "stdout",
     "output_type": "stream",
     "text": [
      "64.0\n",
      "0b1000000\n",
      "0x40\n"
     ]
    }
   ],
   "source": [
    "#bachtiardwirizqianthoro\n",
    "semut= 64\n",
    "print (float(semut)) #konversidata ,float\n",
    "print (bin(semut))   #konversidata ,biner\n",
    "print (hex(semut))   #konversidata ,hexadesimal\n"
   ]
  },
  {
   "cell_type": "code",
   "execution_count": 10,
   "metadata": {},
   "outputs": [
    {
     "name": "stdout",
     "output_type": "stream",
     "text": [
      "Biodata Mahasiswa\n",
      "Nama : bachtiardwirizqianthoro\n",
      "NIM : 20090122\n",
      "\n",
      "Dia mahasiswa semester 5 yang berprestasi,karna memiliki IPK sebesar 3.9\n"
     ]
    },
    {
     "ename": "NameError",
     "evalue": "name 'ipk' is not defined",
     "output_type": "error",
     "traceback": [
      "\u001b[1;31m---------------------------------------------------------------------------\u001b[0m",
      "\u001b[1;31mNameError\u001b[0m                                 Traceback (most recent call last)",
      "\u001b[1;32m<ipython-input-10-e34f3b582031>\u001b[0m in \u001b[0;36m<module>\u001b[1;34m\u001b[0m\n\u001b[0;32m     10\u001b[0m Dia mahasiswa semester\"\"\",semester, \"yang berprestasi,karna memiliki IPK sebesar\",ipk)\n\u001b[0;32m     11\u001b[0m \u001b[1;32mdel\u001b[0m\u001b[1;33m(\u001b[0m\u001b[0mipk\u001b[0m\u001b[1;33m)\u001b[0m\u001b[1;33m\u001b[0m\u001b[1;33m\u001b[0m\u001b[0m\n\u001b[1;32m---> 12\u001b[1;33m \u001b[0mprint\u001b[0m\u001b[1;33m(\u001b[0m\u001b[0mipk\u001b[0m\u001b[1;33m)\u001b[0m\u001b[1;33m\u001b[0m\u001b[1;33m\u001b[0m\u001b[0m\n\u001b[0m",
      "\u001b[1;31mNameError\u001b[0m: name 'ipk' is not defined"
     ]
    }
   ],
   "source": [
    "judul = \"Biodata Mahasiswa\"\n",
    "nama = \"Nama : bachtiardwirizqianthoro\"\n",
    "nim = \"NIM : 20090122\"\n",
    "semester = 5\n",
    "ipk = 3.90\n",
    "print (judul)\n",
    "print(nama)\n",
    "print (nim)\n",
    "print (\"\"\"\n",
    "Dia mahasiswa semester\"\"\",semester, \"yang berprestasi,karna memiliki IPK sebesar\",ipk)\n",
    "del(ipk)\n",
    "print(ipk)\n"
   ]
  }
 ],
 "metadata": {
  "kernelspec": {
   "display_name": "Python 3",
   "language": "python",
   "name": "python3"
  },
  "language_info": {
   "codemirror_mode": {
    "name": "ipython",
    "version": 3
   },
   "file_extension": ".py",
   "mimetype": "text/x-python",
   "name": "python",
   "nbconvert_exporter": "python",
   "pygments_lexer": "ipython3",
   "version": "3.8.3"
  }
 },
 "nbformat": 4,
 "nbformat_minor": 4
}
