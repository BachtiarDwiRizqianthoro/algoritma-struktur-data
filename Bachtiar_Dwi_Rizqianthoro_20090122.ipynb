{
  "nbformat": 4,
  "nbformat_minor": 0,
  "metadata": {
    "colab": {
      "name": "Bachtiar Dwi Rizqianthoro 20090122",
      "provenance": [],
      "collapsed_sections": [],
      "authorship_tag": "ABX9TyNClLSBSmVeDOlA8WZHVmWg",
      "include_colab_link": true
    },
    "kernelspec": {
      "name": "python3",
      "display_name": "Python 3"
    }
  },
  "cells": [
    {
      "cell_type": "markdown",
      "metadata": {
        "id": "view-in-github",
        "colab_type": "text"
      },
      "source": [
        "<a href=\"https://colab.research.google.com/github/BachtiarDwiRizqianthoro/algoritma-struktur-data/blob/main/Bachtiar_Dwi_Rizqianthoro_20090122.ipynb\" target=\"_parent\"><img src=\"https://colab.research.google.com/assets/colab-badge.svg\" alt=\"Open In Colab\"/></a>"
      ]
    },
    {
      "cell_type": "code",
      "metadata": {
        "id": "Dk0YZJw7JmJn",
        "outputId": "8075aff1-26da-414f-f3ce-bfed2560a14a",
        "colab": {
          "base_uri": "https://localhost:8080/"
        }
      },
      "source": [
        "#UTS No 1\n",
        "#Bachtiar Dwi Rizqianthoro\n",
        "\n",
        "jberas=input(\"jenis beras= \")\n",
        "harga=int(input(\"harga beras per kg= \")) \n",
        "dibeli=int(input(\"beras yang dibeli= \"))\n",
        "total=dibeli*harga\n",
        "print(\"harga total\",jberas ,\"adalah\",total)"
      ],
      "execution_count": 10,
      "outputs": [
        {
          "output_type": "stream",
          "text": [
            "jenis beras= raskin\n",
            "harga beras per kg= 5000\n",
            "beras yang dibeli= 7\n",
            "harga total raskin adalah 35000\n"
          ],
          "name": "stdout"
        }
      ]
    },
    {
      "cell_type": "code",
      "metadata": {
        "id": "u3C3YnxONW1R",
        "outputId": "b06f08e8-f90e-422b-b8fc-a73330b6cf10",
        "colab": {
          "base_uri": "https://localhost:8080/"
        }
      },
      "source": [
        "#UTS No 2 \n",
        "#Bachtiar Dwi Rizqianthoro 20090122\n",
        "\n",
        "alas=int(input(\"masukan nilai alas= \"))\n",
        "tinggi=int(input(\"masukan nilai tinggi= \"))\n",
        "def luasjjr():\n",
        "  luas=alas*tinggi\n",
        "  return luas \n",
        "def luassegitiga():\n",
        "  luass=0.5*luasjjr()\n",
        "  return luass \n",
        "print(\"luas jajar genjang\",luasjjr())\n",
        "print(\"luas segitiga\",luassegitiga())"
      ],
      "execution_count": 20,
      "outputs": [
        {
          "output_type": "stream",
          "text": [
            "masukan nilai alas= 20\n",
            "masukan nilai tinggi= 5\n",
            "luas jajar genjang 100\n",
            "luas segitiga 50.0\n"
          ],
          "name": "stdout"
        }
      ]
    },
    {
      "cell_type": "code",
      "metadata": {
        "id": "TNXTRFGoPuMb",
        "outputId": "0ba73649-6e70-4eeb-8792-7f2661367f20",
        "colab": {
          "base_uri": "https://localhost:8080/"
        }
      },
      "source": [
        "#UTS No 3\n",
        "#Bachtiar Dwi Rizqianthoro 20090122\n",
        "\n",
        "def kelilingpsg():\n",
        "  s=int(input(\"masukan nilai sisi *\"))\n",
        "  keliling=4*s \n",
        "  return keliling \n",
        "def kelilingst():\n",
        "  s1=int(input(\"masukan nilai sisi 1 \"))\n",
        "  s2=int(input(\"masukan nilai sisi 2 \")) \n",
        "  s3=int(input(\"masukan nilai sisi 3 \"))\n",
        "  keliling=s1+s2+s3 \n",
        "  return kelilings\n",
        "nomer=int(input(\"nomer program(1/2\"))\n",
        "if nomer ==1:\n",
        "  print(\"keliling persegi:\",kelilingpsg())\n",
        "elif nomer ==2:\n",
        "  (print(\"keliling segitiga:\",kelilingsgt))\n",
        "else:\n",
        "  print(\"program tidak tersedia\")"
      ],
      "execution_count": 23,
      "outputs": [
        {
          "output_type": "stream",
          "text": [
            "nomer program(1/21\n",
            "masukan nilai sisi *5\n",
            "keliling persegi: 20\n"
          ],
          "name": "stdout"
        }
      ]
    },
    {
      "cell_type": "code",
      "metadata": {
        "id": "htGfl_F2Sux9"
      },
      "source": [
        ""
      ],
      "execution_count": null,
      "outputs": []
    }
  ]
}