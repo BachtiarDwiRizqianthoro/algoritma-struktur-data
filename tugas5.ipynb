{
  "nbformat": 4,
  "nbformat_minor": 0,
  "metadata": {
    "colab": {
      "name": "Welcome To Colaboratory",
      "provenance": [],
      "collapsed_sections": [],
      "include_colab_link": true
    },
    "kernelspec": {
      "display_name": "Python 3",
      "name": "python3"
    }
  },
  "cells": [
    {
      "cell_type": "markdown",
      "metadata": {
        "id": "view-in-github",
        "colab_type": "text"
      },
      "source": [
        "<a href=\"https://colab.research.google.com/github/BachtiarDwiRizqianthoro/algoritma-struktur-data/blob/main/tugas5.ipynb\" target=\"_parent\"><img src=\"https://colab.research.google.com/assets/colab-badge.svg\" alt=\"Open In Colab\"/></a>"
      ]
    },
    {
      "cell_type": "code",
      "metadata": {
        "id": "0bPlaAbuejJT",
        "outputId": "de3f81a9-8096-44d8-b0a6-90512fe3f6a9",
        "colab": {
          "base_uri": "https://localhost:8080/",
          "height": 68
        }
      },
      "source": [
        "print('No.1') \n",
        "def a():\n",
        "  print('because i proud to make something new') \n",
        "def b(): \n",
        "  print('i lie programing') \n",
        "b() \n",
        "a() "
      ],
      "execution_count": 6,
      "outputs": [
        {
          "output_type": "stream",
          "text": [
            "No.1\n",
            "i lie programing\n",
            "because i proud to make something new\n"
          ],
          "name": "stdout"
        }
      ]
    },
    {
      "cell_type": "code",
      "metadata": {
        "id": "2PDGKGxgfI9x",
        "outputId": "5773bbec-e66c-48c4-a88f-b2cb6f32dc0f",
        "colab": {
          "base_uri": "https://localhost:8080/",
          "height": 102
        }
      },
      "source": [
        "print('No.2') \n",
        "def perkenalan(): \n",
        "  nama=input('Nama:') \n",
        "  print('nama saya adalah',nama)\n",
        "def luas_kepala(panjang, lebar): \n",
        "  luas=(panjang*lebar)/ 2\n",
        "  print('luas_kepala adalah',luas);\n",
        "perkenalan() \n",
        "luas_kepala(10, 20) \n",
        "luas_kepala(20, 10) "
      ],
      "execution_count": 9,
      "outputs": [
        {
          "output_type": "stream",
          "text": [
            "No.2\n",
            "Nama:Bachtiar\n",
            "nama saya adalah Bachtiar\n",
            "luas_kepala adalah 100.0\n",
            "luas_kepala adalah 100.0\n"
          ],
          "name": "stdout"
        }
      ]
    },
    {
      "cell_type": "code",
      "metadata": {
        "id": "UNO-l3q4hOR-",
        "outputId": "26b7f667-da7d-4620-ab32-5688f46b0799",
        "colab": {
          "base_uri": "https://localhost:8080/",
          "height": 85
        }
      },
      "source": [
        "print('No.3') \n",
        "#fungsi return \n",
        "def a(sisi): \n",
        "  luas = sisi * sisi \n",
        "  return luas \n",
        "print('luas persegi', a(5)) \n",
        "\n",
        "def volume_kubus(sisi): \n",
        "    volume = a(sisi)*sisi \n",
        "    return volume \n",
        "#pemanggilan fungsi\n",
        "print('luas persegi dengan',a(5)) \n",
        "print('volume kubus dengan',volume_kubus(4))"
      ],
      "execution_count": 14,
      "outputs": [
        {
          "output_type": "stream",
          "text": [
            "No.3\n",
            "luas persegi 25\n",
            "luas persegi dengan 25\n",
            "volume kubus dengan 64\n"
          ],
          "name": "stdout"
        }
      ]
    },
    {
      "cell_type": "code",
      "metadata": {
        "id": "zHMvIOM7iwmZ",
        "outputId": "7bad0245-7722-4458-a78d-dfbaeff402af",
        "colab": {
          "base_uri": "https://localhost:8080/",
          "height": 102
        }
      },
      "source": [
        "p = int(input('panjang='))\n",
        "l = int(input('lebar='))\n",
        "t = int(input('tinggi=')) \n",
        "#rumus:P*L \n",
        "def luas_pip():\n",
        "  luas = (p*l)\n",
        "  return luas \n",
        "#rumus PxLxT\n",
        "def volume_balok(): \n",
        "  volume = luas_pip()*T\n",
        "  return volume \n",
        "print('luas persegi panjang',luas_pip())\n",
        "print('volume balok',volume_balok())"
      ],
      "execution_count": 25,
      "outputs": [
        {
          "output_type": "stream",
          "text": [
            "panjang=10\n",
            "lebar=20\n",
            "tinggi=30\n",
            "luas persegi panjang 200\n",
            "volume balok 6000\n"
          ],
          "name": "stdout"
        }
      ]
    },
    {
      "cell_type": "code",
      "metadata": {
        "id": "t_X_6jhKu3av",
        "outputId": "40dd0e7c-6f89-4324-d703-992b909d2b86",
        "colab": {
          "base_uri": "https://localhost:8080/",
          "height": 85
        }
      },
      "source": [
        "#Bachtiar Dwi Rizqianthoro\n",
        "A=int(input('Angka1=')) \n",
        "B=int(input('Angka2=')) \n",
        "def sama_dengan(A,B): \n",
        "  C=(A==B)\n",
        "  print('Angka1 sama dengan angka2 :',C) \n",
        "def lebih_besar(A,B): \n",
        "  D=(A>B) \n",
        "  print('Angka1 leih besar dari Angka2 :',D)\n",
        "sama_dengan(A,B)\n",
        "lebih_besar(A,B)"
      ],
      "execution_count": 37,
      "outputs": [
        {
          "output_type": "stream",
          "text": [
            "Angka1=50\n",
            "Angka2=20\n",
            "Angka1 sama dengan angka2 : False\n",
            "Angka1 leih besar dari Angka2 : True\n"
          ],
          "name": "stdout"
        }
      ]
    }
  ]
}