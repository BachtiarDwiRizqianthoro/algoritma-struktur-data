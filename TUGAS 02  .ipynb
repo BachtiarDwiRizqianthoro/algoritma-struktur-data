{
 "cells": [
  {
   "cell_type": "code",
   "execution_count": 2,
   "metadata": {},
   "outputs": [
    {
     "name": "stdout",
     "output_type": "stream",
     "text": [
      "saya suka programming\n",
      "saya suka programming\n",
      "saya suka programming\n",
      "saya suka programming\n",
      "saya suka programming\n"
     ]
    }
   ],
   "source": [
    "#bachtiardwirizqianthoro\n",
    "print (\"saya suka programming\")\n",
    "print (\"saya suka programming\")\n",
    "print (\"saya suka programming\")\n",
    "print (\"saya suka programming\")\n",
    "print (\"saya suka programming\")"
   ]
  },
  {
   "cell_type": "code",
   "execution_count": 4,
   "metadata": {},
   "outputs": [
    {
     "name": "stdout",
     "output_type": "stream",
     "text": [
      "615.44\n"
     ]
    }
   ],
   "source": [
    "#bachtiardwirizqianthoro\n",
    "r = 14\n",
    "phi = 3.14\n",
    "luas = phi*r*r\n",
    "print (luas)"
   ]
  },
  {
   "cell_type": "code",
   "execution_count": 8,
   "metadata": {},
   "outputs": [
    {
     "name": "stdout",
     "output_type": "stream",
     "text": [
      "saya dwi intan,saya membuat program menghitung balok\n",
      "panjang =  5\n",
      "lebar =  7\n",
      "tinggi =  10\n",
      "sehingga volume balok = 350\n"
     ]
    }
   ],
   "source": [
    "#bachtiardwirizqianthoro\n",
    "p = 5\n",
    "l = 7 \n",
    "t = 10\n",
    "Volume = p*l*t\n",
    "print(\"saya dwi intan,saya membuat program menghitung balok\")\n",
    "print (\"panjang = \",p)\n",
    "print (\"lebar = \",l)\n",
    "print (\"tinggi = \",t)\n",
    "print (\"sehingga volume balok =\",Volume)"
   ]
  }
 ],
 "metadata": {
  "kernelspec": {
   "display_name": "Python 3",
   "language": "python",
   "name": "python3"
  },
  "language_info": {
   "codemirror_mode": {
    "name": "ipython",
    "version": 3
   },
   "file_extension": ".py",
   "mimetype": "text/x-python",
   "name": "python",
   "nbconvert_exporter": "python",
   "pygments_lexer": "ipython3",
   "version": "3.8.3"
  }
 },
 "nbformat": 4,
 "nbformat_minor": 4
}
